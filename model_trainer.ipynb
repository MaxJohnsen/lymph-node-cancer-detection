{
 "cells": [
  {
   "cell_type": "markdown",
   "metadata": {},
   "source": [
    "# Histopathologic Cancer Detection\n",
    "###### Identify metastic tissue in histopathologic scans of lymph node sections"
   ]
  },
  {
   "cell_type": "markdown",
   "metadata": {},
   "source": [
    "## Imports"
   ]
  },
  {
   "cell_type": "code",
   "execution_count": 3,
   "metadata": {},
   "outputs": [],
   "source": [
    "%matplotlib inline\n",
    "\n",
    "import os\n",
    "import cv2\n",
    "import numpy as np\n",
    "import pandas as pd\n",
    "import glob\n",
    "import matplotlib.pyplot as plt\n",
    "\n",
    "from tensorflow.keras.applications.resnet50 import ResNet50\n",
    "from tensorflow.keras.applications.inception_v3 import InceptionV3\n",
    "from tensorflow.keras.applications.nasnet import NASNetLarge, NASNetMobile\n",
    "from tensorflow.keras.layers import Dense, Activation, Input, Lambda\n",
    "from tensorflow.keras import Model\n",
    "from tensorflow.keras.callbacks import ModelCheckpoint"
   ]
  },
  {
   "cell_type": "markdown",
   "metadata": {},
   "source": [
    "## Parameters"
   ]
  },
  {
   "cell_type": "code",
   "execution_count": null,
   "metadata": {},
   "outputs": [],
   "source": [
    "model_name = \"ResNet50_pretrained\""
   ]
  },
  {
   "cell_type": "markdown",
   "metadata": {},
   "source": [
    "## Load Data"
   ]
  },
  {
   "cell_type": "code",
   "execution_count": null,
   "metadata": {},
   "outputs": [],
   "source": [
    "train_X = []\n",
    "train_y = []\n",
    "\n",
    "df = pd.read_csv('dataset\\\\train_labels.csv')\n",
    "\n",
    "for index, row in df.iterrows():\n",
    "    img_id = row[\"id\"]\n",
    "    train_X.append(cv2.imread(f'dataset\\\\train\\\\{img_id}.tif'))\n",
    "    \n",
    "    train_y.append(row[\"label\"])\n",
    "    \n",
    "train_X = np.array(train_X)\n",
    "train_y = np.array(train_y)\n",
    "    "
   ]
  },
  {
   "cell_type": "code",
   "execution_count": null,
   "metadata": {},
   "outputs": [],
   "source": [
    "print(train_X.shape)\n",
    "print(train_y.shape)"
   ]
  },
  {
   "cell_type": "markdown",
   "metadata": {},
   "source": [
    "## Display a randomly selected image"
   ]
  },
  {
   "cell_type": "code",
   "execution_count": null,
   "metadata": {},
   "outputs": [],
   "source": [
    "for img in train_X[np.random.choice(len(train_X), size=1, replace=False)]:\n",
    "    img = cv2.cvtColor(img, cv2.COLOR_BGR2RGB)\n",
    "    plt.imshow(img)\n",
    "    plt.show()"
   ]
  },
  {
   "cell_type": "markdown",
   "metadata": {},
   "source": [
    "## Define Models"
   ]
  },
  {
   "cell_type": "markdown",
   "metadata": {},
   "source": [
    "### ResNet50 - Untrained"
   ]
  },
  {
   "cell_type": "code",
   "execution_count": null,
   "metadata": {},
   "outputs": [],
   "source": [
    "img_input = Input(shape=(96,96,3))\n",
    "norm = Lambda(lambda x: ((x/255.0) - 0.5))(img_input)\n",
    "\n",
    "resnet = ResNet50(include_top=False, weights=None,input_tensor=norm, input_shape=(96,96,3), pooling='max')\n",
    "x = resnet.output\n",
    "x = Dense(1)(x)\n",
    "output = Activation('sigmoid')(x)\n",
    "\n",
    "model = Model(inputs=img_input, outputs=output)\n",
    "print(model.summary())\n",
    "\n",
    "model.compile(loss='binary_crossentropy', optimizer=\"adam\", metrics=[\"accuracy\"])\n",
    "checkpoint = ModelCheckpoint(\"model.h5\", monitor='val_acc', verbose=1,save_best_only=False, mode='max')"
   ]
  },
  {
   "cell_type": "markdown",
   "metadata": {},
   "source": [
    "### ResNet50 - Pretrained "
   ]
  },
  {
   "cell_type": "code",
   "execution_count": null,
   "metadata": {},
   "outputs": [],
   "source": [
    "img_input = Input(shape=(96,96,3))\n",
    "norm = Lambda(lambda x: ((x/255.0) - 0.5))(img_input)\n",
    "\n",
    "resnet = ResNet50(include_top=False, weights='imagenet',input_tensor=norm, input_shape=(96,96,3), pooling='max')\n",
    "x = resnet.output\n",
    "x = Dense(1)(x)\n",
    "output = Activation('sigmoid')(x)\n",
    "\n",
    "model = Model(inputs=img_input, outputs=output)\n",
    "print(model.summary())\n",
    "\n",
    "model.compile(loss='binary_crossentropy', optimizer=\"adam\", metrics=[\"accuracy\"])\n",
    "checkpoint = ModelCheckpoint(\"models\\\\\" + model_name + \"_{epoch:03d}_{val_acc:.4f}.h5\", monitor='val_acc', verbose=1,save_best_only=False, mode='max')"
   ]
  },
  {
   "cell_type": "markdown",
   "metadata": {},
   "source": [
    "### InceptionV3 - Pretrained"
   ]
  },
  {
   "cell_type": "code",
   "execution_count": null,
   "metadata": {},
   "outputs": [],
   "source": [
    "model_name = \"InceptionV3_pretrained\"\n",
    "img_input = Input(shape=(96,96,3))\n",
    "norm = Lambda(lambda x: ((x/255.0) - 0.5))(img_input)\n",
    " \n",
    "inception = InceptionV3(include_top=False, weights='imagenet',input_tensor=norm, input_shape=(96,96,3), pooling='max')\n",
    "x = inception.output\n",
    "x = Dense(1)(x)\n",
    "output = Activation('sigmoid')(x)\n",
    " \n",
    "model = Model(inputs=img_input, outputs=output)\n",
    "print(model.summary())\n",
    " \n",
    "model.compile(loss='binary_crossentropy', optimizer=\"adam\", metrics=[\"accuracy\"])\n",
    "checkpoint = ModelCheckpoint(\"models\\\\\" + model_name + \"_{epoch:03d}_{val_acc:.4f}.h5\", monitor='val_acc', verbose=1,save_best_only=False, mode='max')"
   ]
  },
  {
   "cell_type": "markdown",
   "metadata": {},
   "source": [
    "### NASNetLarge - Pretrained"
   ]
  },
  {
   "cell_type": "code",
   "execution_count": null,
   "metadata": {},
   "outputs": [],
   "source": [
    "model_name = \"NASNetLarge_pretrained\"\n",
    "img_input = Input(shape=(96,96,3))\n",
    "norm = Lambda(lambda x: ((x/255.0) - 0.5))(img_input)\n",
    " \n",
    "nasnet_large = NASNetLarge(include_top=False, weights='imagenet',input_tensor=norm, input_shape=(96,96,3), pooling='max')\n",
    "x = nasnet_large.output\n",
    "x = Dense(1)(x)\n",
    "output = Activation('sigmoid')(x)\n",
    " \n",
    "model = Model(inputs=img_input, outputs=output)\n",
    "print(model.summary())\n",
    " \n",
    "model.compile(loss='binary_crossentropy', optimizer=\"adam\", metrics=[\"accuracy\"])\n",
    "checkpoint = ModelCheckpoint(\"models\\\\\" + model_name + \"_{epoch:03d}_{val_acc:.4f}.h5\", monitor='val_acc', verbose=1,save_best_only=False, save_weights_only=True, mode='max')"
   ]
  },
  {
   "cell_type": "markdown",
   "metadata": {},
   "source": [
    "### NASNetMobile - Pretrained"
   ]
  },
  {
   "cell_type": "code",
   "execution_count": null,
   "metadata": {},
   "outputs": [],
   "source": [
    "model_name = \"NASNetMobile_pretrained\"\n",
    " \n",
    "img_input = Input(shape=(96,96,3))\n",
    "norm = Lambda(lambda x: ((x/255.0) - 0.5))(img_input)\n",
    " \n",
    "nasnet = NASNetMobile(include_top=False, weights='imagenet',input_tensor=norm, input_shape=(96,96,3), pooling='max')\n",
    "x = nasnet.output\n",
    "x = Dense(1)(x)\n",
    "output = Activation('sigmoid')(x)\n",
    " \n",
    "model = Model(inputs=img_input, outputs=output)\n",
    "print(model.summary())\n",
    " \n",
    "model.compile(loss='binary_crossentropy', optimizer=\"adam\", metrics=[\"accuracy\"])\n",
    "checkpoint = ModelCheckpoint(\"models\\\\\" + model_name + \"_{epoch:03d}_{val_acc:.4f}.h5\", monitor='val_acc', verbose=1,save_best_only=False, mode='max')"
   ]
  },
  {
   "cell_type": "markdown",
   "metadata": {},
   "source": [
    "## Train Model "
   ]
  },
  {
   "cell_type": "code",
   "execution_count": null,
   "metadata": {},
   "outputs": [],
   "source": [
    "history = model.fit(train_X, train_y, validation_split=0.2, callbacks=[checkpoint], epochs=50)"
   ]
  },
  {
   "cell_type": "markdown",
   "metadata": {},
   "source": [
    "## Plot and Save Results"
   ]
  },
  {
   "cell_type": "code",
   "execution_count": null,
   "metadata": {},
   "outputs": [],
   "source": [
    "fig_acc = plt.figure()\n",
    "ax1 = plt.subplot(111)\n",
    "ax1.plot(history.history['acc'])\n",
    "ax1.plot(history.history['val_acc'])\n",
    "plt.title('Training vs Validation Accuracy')\n",
    "plt.ylabel('Accuracy')\n",
    "plt.xlabel('Epoch')\n",
    "plt.savefig(\"figures\\\\\" + model_name + \"_acc.png\")\n",
    "plt.show()\n",
    "\n",
    "\n",
    "fig_loss = plt.figure()\n",
    "ax2 = plt.subplot(111)\n",
    "ax2.plot(history.history['loss'])\n",
    "ax2.plot(history.history['val_loss'])\n",
    "plt.title('Training vs Validation Loss')\n",
    "plt.ylabel('Loss')\n",
    "plt.xlabel('Epoch')\n",
    "plt.savefig(\"figures\\\\\" + model_name + \"_loss.png\")\n",
    "plt.show()\n",
    "\n",
    "ResNet50_pretrained"
   ]
  },
  {
   "cell_type": "code",
   "execution_count": null,
   "metadata": {},
   "outputs": [],
   "source": []
  }
 ],
 "metadata": {
  "kernelspec": {
   "display_name": "e2e-sdc",
   "language": "python",
   "name": "e2e-sdc"
  },
  "language_info": {
   "codemirror_mode": {
    "name": "ipython",
    "version": 3
   },
   "file_extension": ".py",
   "mimetype": "text/x-python",
   "name": "python",
   "nbconvert_exporter": "python",
   "pygments_lexer": "ipython3",
   "version": "3.6.6"
  }
 },
 "nbformat": 4,
 "nbformat_minor": 2
}
