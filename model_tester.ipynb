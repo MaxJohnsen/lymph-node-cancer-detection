{
 "cells": [
  {
   "cell_type": "markdown",
   "metadata": {},
   "source": [
    "# Test Models "
   ]
  },
  {
   "cell_type": "code",
   "execution_count": 15,
   "metadata": {},
   "outputs": [],
   "source": [
    "import cv2\n",
    "import numpy as np\n",
    "import pandas as pd\n",
    "import glob\n",
    "\n",
    "from tensorflow.keras.models import load_model"
   ]
  },
  {
   "cell_type": "markdown",
   "metadata": {},
   "source": [
    "## Load test data"
   ]
  },
  {
   "cell_type": "code",
   "execution_count": 29,
   "metadata": {},
   "outputs": [],
   "source": [
    "test_X = []\n",
    "image_ids = []\n",
    "image_paths = glob.glob(\"dataset\\\\test\\\\*.tif\")\n",
    "\n",
    "for path in image_paths: \n",
    "    image_ids.append(path[13:-4])\n",
    "    test_X.append(cv2.imread(path))\n",
    "      \n",
    "test_X = np.array(test_X)\n"
   ]
  },
  {
   "cell_type": "markdown",
   "metadata": {},
   "source": [
    "## Load Models "
   ]
  },
  {
   "cell_type": "code",
   "execution_count": null,
   "metadata": {},
   "outputs": [],
   "source": [
    "for path in glob.glob(\"test_models\\\\*\"):\n",
    "    name = path[12:-3]\n",
    "    model = load_model(path)\n",
    "    \n",
    "    df = pd.DataFrame(columns=[\"id\", \"label\"])\n",
    "    for i in range(len(test_X)): \n",
    "        df.loc[i] = [image_ids[i], model.predict(np.array([test_X[i]]))[0][0]]\n",
    "    df.to_csv('test_results\\\\'+name+'.csv', index=False)\n",
    "\n"
   ]
  },
  {
   "cell_type": "markdown",
   "metadata": {},
   "source": [
    "## Results \n",
    "**ResNet50, pretrained**: \n",
    "    - Parameters:36 epoichs, 0.9604 val acc \n",
    "    - Kaggle: test acc 0.9361, rank 57 "
   ]
  },
  {
   "cell_type": "code",
   "execution_count": null,
   "metadata": {},
   "outputs": [],
   "source": []
  }
 ],
 "metadata": {
  "kernelspec": {
   "display_name": "e2e-sdc",
   "language": "python",
   "name": "e2e-sdc"
  },
  "language_info": {
   "codemirror_mode": {
    "name": "ipython",
    "version": 3
   },
   "file_extension": ".py",
   "mimetype": "text/x-python",
   "name": "python",
   "nbconvert_exporter": "python",
   "pygments_lexer": "ipython3",
   "version": "3.6.6"
  }
 },
 "nbformat": 4,
 "nbformat_minor": 2
}
